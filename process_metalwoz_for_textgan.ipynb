{
 "cells": [
  {
   "cell_type": "code",
   "execution_count": 1,
   "metadata": {},
   "outputs": [],
   "source": [
    "import json\n",
    "import random\n",
    "import os\n",
    "\n",
    "random.seed(271)"
   ]
  },
  {
   "cell_type": "code",
   "execution_count": 2,
   "metadata": {},
   "outputs": [],
   "source": [
    "DATASET_FILE = 'dataset/crowdsourced_task-oriented_dialogues/blis_annotated.json'\n",
    "DATASET_NAME = 'metalwoz'\n",
    "TRAINSET_RATIO = 0.9"
   ]
  },
  {
   "cell_type": "code",
   "execution_count": 3,
   "metadata": {},
   "outputs": [],
   "source": [
    "with open(DATASET_FILE) as data_in:\n",
    "    data = json.load(data_in)"
   ]
  },
  {
   "cell_type": "code",
   "execution_count": 4,
   "metadata": {},
   "outputs": [],
   "source": [
    "def flatten(in_data):\n",
    "    turns = []\n",
    "    for dialog in in_data:\n",
    "        for turn in dialog['turns']:\n",
    "            turns.append(turn['text'].lower())\n",
    "    return turns"
   ]
  },
  {
   "cell_type": "code",
   "execution_count": 5,
   "metadata": {},
   "outputs": [],
   "source": [
    "def split_traintest(in_data):\n",
    "    train_datapoints = int(len(in_data) * TRAINSET_RATIO)\n",
    "    random.shuffle(in_data)\n",
    "    return in_data[:train_datapoints], in_data[train_datapoints:]"
   ]
  },
  {
   "cell_type": "code",
   "execution_count": 6,
   "metadata": {},
   "outputs": [],
   "source": [
    "def write_textgan_dataset(in_result_folder, in_dataset_name, in_train, in_test):\n",
    "    if not(os.path.exists(in_result_folder)):\n",
    "        os.makedirs(in_result_folder)\n",
    "    target_folder = os.path.join(in_result_folder, in_dataset_name)\n",
    "    if not(os.path.exists(target_folder)):\n",
    "        os.makedirs(target_folder)\n",
    "\n",
    "    with open(os.path.join(target_folder, 'train.txt'), 'w') as train_out:\n",
    "        train_out.write('\\n'.join(in_train))\n",
    "    with open(os.path.join(target_folder, 'test.txt'), 'w') as test_out:\n",
    "        test_out.write('\\n'.join(in_test))"
   ]
  },
  {
   "cell_type": "code",
   "execution_count": 7,
   "metadata": {},
   "outputs": [],
   "source": [
    "data_flat = flatten(data)\n",
    "train, test = split_traintest(data_flat)"
   ]
  },
  {
   "cell_type": "code",
   "execution_count": 9,
   "metadata": {},
   "outputs": [],
   "source": [
    "write_textgan_dataset('dataset', DATASET_NAME, train, test)"
   ]
  }
 ],
 "metadata": {
  "kernelspec": {
   "display_name": "Python 3",
   "language": "python",
   "name": "python3"
  },
  "language_info": {
   "codemirror_mode": {
    "name": "ipython",
    "version": 3
   },
   "file_extension": ".py",
   "mimetype": "text/x-python",
   "name": "python",
   "nbconvert_exporter": "python",
   "pygments_lexer": "ipython3",
   "version": "3.6.8"
  }
 },
 "nbformat": 4,
 "nbformat_minor": 2
}
